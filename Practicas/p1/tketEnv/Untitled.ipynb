{
 "cells": [
  {
   "cell_type": "code",
   "execution_count": 11,
   "metadata": {},
   "outputs": [
    {
     "name": "stdout",
     "output_type": "stream",
     "text": [
      "<tket::Circuit, qubits=1, gates=2>\n",
      "Counter({(1,): 506, (0,): 494})\n"
     ]
    }
   ],
   "source": [
    "from pytket import Circuit\n",
    "from pytket.backends.ibm import AerBackend\n",
    "\n",
    "c = Circuit(1,1)\n",
    "c.H(0)\n",
    "c.measure_all()\n",
    "b = AerBackend()\n",
    "b.compile_circuit(c)\n",
    "\n",
    "handle = b.process_circuit(c, 1000)\n",
    "counts = b.get_result(handle).get_counts()\n",
    "print(c)\n",
    "print(counts)\n"
   ]
  },
  {
   "cell_type": "code",
   "execution_count": 12,
   "metadata": {},
   "outputs": [
    {
     "name": "stdout",
     "output_type": "stream",
     "text": [
      "     ┌───┐     ┌─┐                      \n",
      "q_0: ┤ H ├──■──┤M├──────────────────────\n",
      "     └───┘┌─┴─┐└╥┘┌─────────┐     ┌─┐   \n",
      "q_1: ─────┤ X ├─╫─┤ RZ(π/2) ├──■──┤M├───\n",
      "          └───┘ ║ └─────────┘┌─┴─┐└╥┘┌─┐\n",
      "q_2: ───────────╫────────────┤ X ├─╫─┤M├\n",
      "                ║            └───┘ ║ └╥┘\n",
      "c: 3/═══════════╩══════════════════╩══╩═\n",
      "                0                  1  2 \n"
     ]
    }
   ],
   "source": [
    "from qiskit import QuantumCircuit\n",
    "from math import pi\n",
    "qc = QuantumCircuit(3)\n",
    "qc.h(0)\n",
    "qc.cx(0, 1)\n",
    "qc.rz(pi/2, 1)\n",
    "\n",
    "from pytket.extensions.qiskit import qiskit_to_tk, tk_to_qiskit\n",
    "circ = qiskit_to_tk(qc)\n",
    "circ.CX(1, 2)\n",
    "circ.measure_all()\n",
    "\n",
    "qc2 = tk_to_qiskit(circ)\n",
    "print(qc2)"
   ]
  },
  {
   "cell_type": "code",
   "execution_count": null,
   "metadata": {},
   "outputs": [],
   "source": []
  }
 ],
 "metadata": {
  "kernelspec": {
   "display_name": "Python 3",
   "language": "python",
   "name": "python3"
  },
  "language_info": {
   "codemirror_mode": {
    "name": "ipython",
    "version": 3
   },
   "file_extension": ".py",
   "mimetype": "text/x-python",
   "name": "python",
   "nbconvert_exporter": "python",
   "pygments_lexer": "ipython3",
   "version": "3.8.5"
  }
 },
 "nbformat": 4,
 "nbformat_minor": 4
}
