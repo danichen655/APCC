{
 "cells": [
  {
   "cell_type": "code",
   "execution_count": 1,
   "id": "elect-watson",
   "metadata": {},
   "outputs": [],
   "source": [
    "import cirq"
   ]
  },
  {
   "cell_type": "code",
   "execution_count": 5,
   "id": "clinical-validity",
   "metadata": {},
   "outputs": [],
   "source": [
    "##qubit = cirq.GridQubit(0,0)"
   ]
  },
  {
   "cell_type": "code",
   "execution_count": 6,
   "id": "orange-trace",
   "metadata": {},
   "outputs": [
    {
     "name": "stdout",
     "output_type": "stream",
     "text": [
      "Counter({0: 65, 1: 35})\n"
     ]
    }
   ],
   "source": [
    "'''q = cirq.NamedQubit('a')\n",
    "circuit = cirq.Circuit(cirq.H(q), cirq.amplitude_damp(0.2)(q), cirq.measure(q))\n",
    "simulator = cirq.DensityMatrixSimulator()\n",
    "result = simulator.run(circuit, repetitions=100)\n",
    "print(result.histogram(key='a'))'''"
   ]
  },
  {
   "cell_type": "code",
   "execution_count": null,
   "id": "banner-globe",
   "metadata": {},
   "outputs": [],
   "source": [
    "''''q = cirq.NamedQubit('a')\n",
    "circuit = cirq.Circuit(cirq.H(q), cirq.amplitude_damp(0.2)(q), cirq.measure(q))\n",
    "simulator = cirq.DensityMatrixSimulator()\n",
    "result = simulator.run(circuit, repetitions=100)\n",
    "print(result.histogram(key='a'))'''"
   ]
  },
  {
   "cell_type": "code",
   "execution_count": 33,
   "id": "controversial-habitat",
   "metadata": {},
   "outputs": [
    {
     "name": "stdout",
     "output_type": "stream",
     "text": [
      "Circuito:\n",
      "a: ───H───M('m')───\n",
      "m=1000101001100100100001101001001110100101000111111011100101110101111110111111001001100010110110111010110000111100010001111100001011110011101010100010001101000100100000000100100011001111111111001011111110011111100000111011110001100100100010101000010101110000011000000000111000101100101100011111111000101011000101110000110010110110010001100011101111010101001010111011001101110111000110011110101100100010010100101100100001001000000100010001110001110000001101100011001101001010010101110001111110111010010101001101000000110101100100111011010011001100110001110101111001011000000010001011111100001000000111010000111001111101000110111100010000011110000110111101101110010101000010000101101001010101010001110100000010000100111110000110110000101110011100011000111101100110101010101010101101011010100000101011000110110111010010100010101010011101100000010000011111100111101011111010000111000011101000010110010000000000010011011111011011100100001011100001001010111111101000110000100110110010010100000101010001011011\n",
      "Counter({0: 517, 1: 483})\n"
     ]
    }
   ],
   "source": [
    "q = cirq.NamedQubit('a')\n",
    "circuit = cirq.Circuit(cirq.H(q), cirq.measure(q, key = 'm'))\n",
    "simulator = cirq.DensityMatrixSimulator()\n",
    "result = simulator.run(circuit, repetitions=1000)\n",
    "print(\"Circuito:\")\n",
    "print(circuit)\n",
    "print(result)\n",
    "print(result.histogram(key='m'))\n"
   ]
  },
  {
   "cell_type": "code",
   "execution_count": null,
   "id": "periodic-drunk",
   "metadata": {},
   "outputs": [],
   "source": []
  },
  {
   "cell_type": "code",
   "execution_count": null,
   "id": "acceptable-occasion",
   "metadata": {},
   "outputs": [],
   "source": []
  }
 ],
 "metadata": {
  "kernelspec": {
   "display_name": "Python 3",
   "language": "python",
   "name": "python3"
  },
  "language_info": {
   "codemirror_mode": {
    "name": "ipython",
    "version": 3
   },
   "file_extension": ".py",
   "mimetype": "text/x-python",
   "name": "python",
   "nbconvert_exporter": "python",
   "pygments_lexer": "ipython3",
   "version": "3.8.5"
  }
 },
 "nbformat": 4,
 "nbformat_minor": 5
}
