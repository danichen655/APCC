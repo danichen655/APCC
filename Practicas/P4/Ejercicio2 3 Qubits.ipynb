{
 "cells": [
  {
   "cell_type": "code",
   "execution_count": 1,
   "id": "united-matthew",
   "metadata": {},
   "outputs": [],
   "source": [
    "from pyquil import Program, get_qc\n",
    "from pyquil.gates import *\n",
    "from pyquil.api import WavefunctionSimulator"
   ]
  },
  {
   "cell_type": "markdown",
   "id": "congressional-france",
   "metadata": {},
   "source": [
    "## Algoritmo de Deutsch-Jozsa para 3 qubits"
   ]
  },
  {
   "cell_type": "code",
   "execution_count": 4,
   "id": "living-reform",
   "metadata": {},
   "outputs": [],
   "source": [
    "n = 3"
   ]
  },
  {
   "cell_type": "code",
   "execution_count": 5,
   "id": "excess-accounting",
   "metadata": {},
   "outputs": [],
   "source": [
    "def circuitoIni(n):\n",
    "    qc = Program()\n",
    "    qc += X(qubit = n)\n",
    "    for i in range(n+1):\n",
    "        qc += H(qubit = i)\n",
    "    return qc"
   ]
  },
  {
   "cell_type": "code",
   "execution_count": 7,
   "id": "enabling-virtue",
   "metadata": {},
   "outputs": [
    {
     "name": "stdout",
     "output_type": "stream",
     "text": [
      "X 3\n",
      "H 0\n",
      "H 1\n",
      "H 2\n",
      "H 3\n",
      "\n"
     ]
    }
   ],
   "source": [
    "qc = circuitoIni(n)\n",
    "print (qc)"
   ]
  },
  {
   "cell_type": "code",
   "execution_count": 8,
   "id": "inner-emphasis",
   "metadata": {},
   "outputs": [],
   "source": [
    "def circuitoFin(n):\n",
    "    qc3 = Program()\n",
    "    for i in range(n):\n",
    "        qc3 += H(qubit = i)\n",
    "    return qc3"
   ]
  },
  {
   "cell_type": "code",
   "execution_count": 9,
   "id": "therapeutic-finish",
   "metadata": {},
   "outputs": [
    {
     "name": "stdout",
     "output_type": "stream",
     "text": [
      "H 0\n",
      "H 1\n",
      "H 2\n",
      "\n"
     ]
    }
   ],
   "source": [
    "qc = circuitoFin(n)\n",
    "print (qc)"
   ]
  },
  {
   "cell_type": "markdown",
   "id": "engaging-healthcare",
   "metadata": {},
   "source": [
    "### Constantes para 3 qubits"
   ]
  },
  {
   "cell_type": "code",
   "execution_count": 10,
   "id": "critical-profit",
   "metadata": {},
   "outputs": [
    {
     "name": "stdout",
     "output_type": "stream",
     "text": [
      "\n"
     ]
    }
   ],
   "source": [
    "constante0 = Program()\n",
    "print(constante0)"
   ]
  },
  {
   "cell_type": "code",
   "execution_count": 11,
   "id": "julian-solid",
   "metadata": {},
   "outputs": [
    {
     "name": "stdout",
     "output_type": "stream",
     "text": [
      "CNOT 0 3\n",
      "X 0\n",
      "CNOT 0 3\n",
      "CNOT 1 3\n",
      "X 1\n",
      "CNOT 1 3\n",
      "CNOT 2 3\n",
      "X 2\n",
      "CNOT 2 3\n",
      "\n"
     ]
    }
   ],
   "source": [
    "constante1 = Program()\n",
    "constante1 += CNOT(0,n)\n",
    "constante1 += X(qubit = 0)\n",
    "constante1 += CNOT(0,n)\n",
    "constante1 += CNOT(1,n)\n",
    "constante1 += X(qubit = 1)\n",
    "constante1 += CNOT(1,n)\n",
    "constante1 += CNOT(2,n)\n",
    "constante1 += X(qubit = 2)\n",
    "constante1 += CNOT(2,n)\n",
    "print(constante1)\n"
   ]
  },
  {
   "cell_type": "markdown",
   "id": "another-jordan",
   "metadata": {},
   "source": [
    "### Balanceado para 3 qubits"
   ]
  },
  {
   "cell_type": "code",
   "execution_count": 36,
   "id": "tired-vatican",
   "metadata": {},
   "outputs": [
    {
     "name": "stdout",
     "output_type": "stream",
     "text": [
      "CNOT 0 3\n",
      "CNOT 1 3\n",
      "CNOT 2 3\n",
      "\n"
     ]
    }
   ],
   "source": [
    "balanced1 = Program()\n",
    "\n",
    "balanced1 += CNOT(0,n)\n",
    "balanced1 += CNOT(1,n)\n",
    "balanced1 += CNOT(n-1,n)\n",
    "\n",
    "print(balanced1)"
   ]
  },
  {
   "cell_type": "code",
   "execution_count": 37,
   "id": "toxic-integral",
   "metadata": {},
   "outputs": [
    {
     "name": "stdout",
     "output_type": "stream",
     "text": [
      "CNOT 0 3\n",
      "\n"
     ]
    }
   ],
   "source": [
    "balanced0 = Program()\n",
    "balanced0 += CNOT(0,n)\n",
    "print(balanced0)"
   ]
  },
  {
   "cell_type": "code",
   "execution_count": 38,
   "id": "ready-daughter",
   "metadata": {},
   "outputs": [],
   "source": [
    "#anhadimos los oraculos en el diccionario\n",
    "oraculos = dict()\n",
    "oraculos['constante0'] = constante0\n",
    "oraculos['constante1'] = constante1\n",
    "oraculos['balanced1'] = balanced1\n",
    "oraculos['balanced0'] = balanced0"
   ]
  },
  {
   "cell_type": "code",
   "execution_count": 39,
   "id": "light-rubber",
   "metadata": {},
   "outputs": [],
   "source": [
    "def deutsch_jozsa(n, oraculo):\n",
    "    qc = Program()\n",
    "    qc += circuitoIni(n)\n",
    "    qc +=oraculos[oraculo]\n",
    "    qc +=circuitoFin(n)\n",
    "    return qc"
   ]
  },
  {
   "cell_type": "code",
   "execution_count": 40,
   "id": "lonely-surgery",
   "metadata": {},
   "outputs": [
    {
     "data": {
      "text/plain": [
       "[0, 1, 2, 3]"
      ]
     },
     "execution_count": 40,
     "metadata": {},
     "output_type": "execute_result"
    }
   ],
   "source": [
    "qc = get_qc('4q-qvm') # un computador cuantica de 2 qubits para poder hacer la simulacion.\n",
    "qc.qubits()"
   ]
  },
  {
   "cell_type": "markdown",
   "id": "defensive-journal",
   "metadata": {},
   "source": [
    "### Contante 0"
   ]
  },
  {
   "cell_type": "code",
   "execution_count": 41,
   "id": "narrow-germany",
   "metadata": {},
   "outputs": [
    {
     "name": "stdout",
     "output_type": "stream",
     "text": [
      "X 3\n",
      "H 0\n",
      "H 1\n",
      "H 2\n",
      "H 3\n",
      "H 0\n",
      "H 1\n",
      "H 2\n",
      "\n"
     ]
    }
   ],
   "source": [
    "constante0Circuit = deutsch_jozsa(n, 'constante0')\n",
    "print(constante0Circuit)"
   ]
  },
  {
   "cell_type": "code",
   "execution_count": 42,
   "id": "german-honolulu",
   "metadata": {},
   "outputs": [],
   "source": [
    "wf_sim = WavefunctionSimulator()\n",
    "wavefunction = wf_sim.wavefunction(constante0Circuit)"
   ]
  },
  {
   "cell_type": "code",
   "execution_count": 43,
   "id": "exterior-technician",
   "metadata": {
    "scrolled": true
   },
   "outputs": [
    {
     "name": "stdout",
     "output_type": "stream",
     "text": [
      "(0.7071067812+0j)|0000> + (-0.7071067812+0j)|1000>\n"
     ]
    }
   ],
   "source": [
    "print(wavefunction)"
   ]
  },
  {
   "cell_type": "code",
   "execution_count": 44,
   "id": "particular-strengthening",
   "metadata": {
    "scrolled": true
   },
   "outputs": [
    {
     "data": {
      "text/plain": [
       "{0: array([0, 0, 0, 0, 0, 0, 0, 0, 0, 0]),\n",
       " 1: array([0, 0, 0, 0, 0, 0, 0, 0, 0, 0]),\n",
       " 2: array([0, 0, 0, 0, 0, 0, 0, 0, 0, 0]),\n",
       " 3: array([0, 1, 0, 0, 0, 1, 0, 0, 1, 1])}"
      ]
     },
     "execution_count": 44,
     "metadata": {},
     "output_type": "execute_result"
    }
   ],
   "source": [
    "bitstrings = qc.run_and_measure(constante0Circuit, trials=10)\n",
    "bitstrings"
   ]
  },
  {
   "cell_type": "markdown",
   "id": "expensive-marks",
   "metadata": {},
   "source": [
    "Como vemos, al aplicar el algoritmo, el qubit 0,1,2 nos ha devuelto todos los estado a 0. En cambio, el qubit 3 tiene un 50% de ser 1 o 0. Por lo que nuestro algortimo con el oraculo funciona."
   ]
  },
  {
   "cell_type": "markdown",
   "id": "directed-sunglasses",
   "metadata": {},
   "source": [
    "### Contante 1"
   ]
  },
  {
   "cell_type": "code",
   "execution_count": 45,
   "id": "blond-cotton",
   "metadata": {},
   "outputs": [
    {
     "name": "stdout",
     "output_type": "stream",
     "text": [
      "X 3\n",
      "H 0\n",
      "H 1\n",
      "H 2\n",
      "H 3\n",
      "CNOT 0 3\n",
      "X 0\n",
      "CNOT 0 3\n",
      "CNOT 1 3\n",
      "X 1\n",
      "CNOT 1 3\n",
      "CNOT 2 3\n",
      "X 2\n",
      "CNOT 2 3\n",
      "H 0\n",
      "H 1\n",
      "H 2\n",
      "\n"
     ]
    }
   ],
   "source": [
    "constante1Circuit = deutsch_jozsa(n, 'constante1')\n",
    "print(constante1Circuit)"
   ]
  },
  {
   "cell_type": "code",
   "execution_count": 46,
   "id": "controlling-johnston",
   "metadata": {},
   "outputs": [
    {
     "data": {
      "text/plain": [
       "{0: array([0, 0, 0, 0, 0, 0, 0, 0, 0, 0]),\n",
       " 1: array([0, 0, 0, 0, 0, 0, 0, 0, 0, 0]),\n",
       " 2: array([0, 0, 0, 0, 0, 0, 0, 0, 0, 0]),\n",
       " 3: array([0, 1, 0, 0, 1, 1, 0, 0, 0, 0])}"
      ]
     },
     "execution_count": 46,
     "metadata": {},
     "output_type": "execute_result"
    }
   ],
   "source": [
    "bitstrings = qc.run_and_measure(constante1Circuit, trials=10)\n",
    "bitstrings"
   ]
  },
  {
   "cell_type": "markdown",
   "id": "general-strap",
   "metadata": {},
   "source": [
    "Como vemos, con el oraculo constante, nos dio el resultado de esperado, un probabilidad de 100% en los bits 000."
   ]
  },
  {
   "cell_type": "markdown",
   "id": "million-mixer",
   "metadata": {},
   "source": [
    "### Balanceado 0"
   ]
  },
  {
   "cell_type": "code",
   "execution_count": 47,
   "id": "unknown-youth",
   "metadata": {},
   "outputs": [
    {
     "name": "stdout",
     "output_type": "stream",
     "text": [
      "X 3\n",
      "H 0\n",
      "H 1\n",
      "H 2\n",
      "H 3\n",
      "CNOT 0 3\n",
      "H 0\n",
      "H 1\n",
      "H 2\n",
      "\n"
     ]
    }
   ],
   "source": [
    "balanced0Circuit = deutsch_jozsa(n, 'balanced0')\n",
    "print(balanced0Circuit)"
   ]
  },
  {
   "cell_type": "code",
   "execution_count": 48,
   "id": "loved-chaos",
   "metadata": {},
   "outputs": [
    {
     "data": {
      "text/plain": [
       "{0: array([1, 1, 1, 1, 1, 1, 1, 1, 1, 1]),\n",
       " 1: array([0, 0, 0, 0, 0, 0, 0, 0, 0, 0]),\n",
       " 2: array([0, 0, 0, 0, 0, 0, 0, 0, 0, 0]),\n",
       " 3: array([1, 1, 0, 0, 0, 1, 0, 1, 0, 1])}"
      ]
     },
     "execution_count": 48,
     "metadata": {},
     "output_type": "execute_result"
    }
   ],
   "source": [
    "bitstrings = qc.run_and_measure(balanced0Circuit, trials=10)\n",
    "bitstrings"
   ]
  },
  {
   "cell_type": "markdown",
   "id": "logical-chassis",
   "metadata": {},
   "source": [
    "Como vemos, al aplicar el algoritmo, los tres qubits menos significativos nos ha devuelto todos los estado distintos de 00. En cambio, el qubit 3 tiene un 50% de ser 1 o 0. Por lo que nuestro algortimo con el oraculo funciona."
   ]
  },
  {
   "cell_type": "markdown",
   "id": "separated-cylinder",
   "metadata": {},
   "source": [
    "### Balanceado 1"
   ]
  },
  {
   "cell_type": "code",
   "execution_count": 49,
   "id": "italian-physiology",
   "metadata": {
    "scrolled": true
   },
   "outputs": [
    {
     "name": "stdout",
     "output_type": "stream",
     "text": [
      "X 3\n",
      "H 0\n",
      "H 1\n",
      "H 2\n",
      "H 3\n",
      "CNOT 0 3\n",
      "CNOT 1 3\n",
      "CNOT 2 3\n",
      "H 0\n",
      "H 1\n",
      "H 2\n",
      "\n"
     ]
    }
   ],
   "source": [
    "balanced1Circuit = deutsch_jozsa(n, 'balanced1')\n",
    "print(balanced1Circuit)"
   ]
  },
  {
   "cell_type": "code",
   "execution_count": 50,
   "id": "drawn-creativity",
   "metadata": {},
   "outputs": [
    {
     "data": {
      "text/plain": [
       "{0: array([1, 1, 1, 1, 1, 1, 1, 1, 1, 1]),\n",
       " 1: array([1, 1, 1, 1, 1, 1, 1, 1, 1, 1]),\n",
       " 2: array([1, 1, 1, 1, 1, 1, 1, 1, 1, 1]),\n",
       " 3: array([0, 1, 1, 0, 0, 0, 0, 1, 0, 1])}"
      ]
     },
     "execution_count": 50,
     "metadata": {},
     "output_type": "execute_result"
    }
   ],
   "source": [
    "bitstrings = qc.run_and_measure(balanced1Circuit, trials=10)\n",
    "bitstrings"
   ]
  },
  {
   "cell_type": "markdown",
   "id": "responsible-canadian",
   "metadata": {},
   "source": [
    "Como vemos, al aplicar el algoritmo, los tres qubits menos significativos nos ha devuelto todos los estado distintos de 000. En cambio, el qubit 3 tiene un 50% de ser 1 o 0. Por lo que nuestro algortimo con el oraculo funciona."
   ]
  }
 ],
 "metadata": {
  "kernelspec": {
   "display_name": "Python 3",
   "language": "python",
   "name": "python3"
  },
  "language_info": {
   "codemirror_mode": {
    "name": "ipython",
    "version": 3
   },
   "file_extension": ".py",
   "mimetype": "text/x-python",
   "name": "python",
   "nbconvert_exporter": "python",
   "pygments_lexer": "ipython3",
   "version": "3.8.5"
  }
 },
 "nbformat": 4,
 "nbformat_minor": 5
}
