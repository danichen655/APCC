{
 "cells": [
  {
   "cell_type": "code",
   "execution_count": 10,
   "id": "appointed-playback",
   "metadata": {},
   "outputs": [
    {
     "name": "stdout",
     "output_type": "stream",
     "text": [
      "\n",
      "Número de ocurrencias para 0 y 1: {'000': 483, '111': 517}\n"
     ]
    },
    {
     "data": {
      "text/html": [
       "<pre style=\"word-wrap: normal;white-space: pre;background: #fff0;line-height: 1.1;font-family: &quot;Courier New&quot;,Courier,monospace\">     ┌───┐          ┌─┐      \n",
       "q_0: ┤ H ├──■───────┤M├──────\n",
       "     └───┘┌─┴─┐     └╥┘┌─┐   \n",
       "q_1: ─────┤ X ├──■───╫─┤M├───\n",
       "          └───┘┌─┴─┐ ║ └╥┘┌─┐\n",
       "q_2: ──────────┤ X ├─╫──╫─┤M├\n",
       "               └───┘ ║  ║ └╥┘\n",
       "c: 3/════════════════╩══╩══╩═\n",
       "                     0  1  2 </pre>"
      ],
      "text/plain": [
       "     ┌───┐          ┌─┐      \n",
       "q_0: ┤ H ├──■───────┤M├──────\n",
       "     └───┘┌─┴─┐     └╥┘┌─┐   \n",
       "q_1: ─────┤ X ├──■───╫─┤M├───\n",
       "          └───┘┌─┴─┐ ║ └╥┘┌─┐\n",
       "q_2: ──────────┤ X ├─╫──╫─┤M├\n",
       "               └───┘ ║  ║ └╥┘\n",
       "c: 3/════════════════╩══╩══╩═\n",
       "                     0  1  2 "
      ]
     },
     "execution_count": 10,
     "metadata": {},
     "output_type": "execute_result"
    }
   ],
   "source": [
    "import numpy as np\n",
    "from qiskit import(\n",
    "  QuantumCircuit,\n",
    "  execute,\n",
    "  Aer)\n",
    "from qiskit.visualization import plot_histogram\n",
    "simulator = Aer.get_backend('qasm_simulator')\n",
    "circuit = QuantumCircuit(3, 3)\n",
    "circuit.h(0)\n",
    "circuit.cx([0],[1])\n",
    "circuit.cx([1],[2])\n",
    "circuit.measure([0], [0]) \n",
    "circuit.measure([1], [1])\n",
    "circuit.measure([2], [2])\n",
    "job = execute(circuit, simulator, shots=1000)\n",
    "# Almacenamos los resultados\n",
    "result = job.result()\n",
    "# Capturamos las ocurrencias de salida\n",
    "counts = result.get_counts(circuit)\n",
    "# Escribimos el número de ocurrencias\n",
    "print(\"\\nNúmero de ocurrencias para 0 y 1:\",counts)\n",
    "# Dibujamos el circuito\n",
    "circuit.draw()"
   ]
  },
  {
   "cell_type": "code",
   "execution_count": 1,
   "id": "beginning-primary",
   "metadata": {},
   "outputs": [],
   "source": [
    "from qiskit import IBMQ\n"
   ]
  },
  {
   "cell_type": "code",
   "execution_count": 3,
   "id": "orange-regard",
   "metadata": {},
   "outputs": [],
   "source": [
    "IBMQ.save_account('b6a64fd92bc0d0f5af8011f1800820500e02cfafc29bb98e2c13c746b883ffa885b544d9e0d286cac28786d034872f25f77be296e88ac9e8bef093cb659536fb')"
   ]
  },
  {
   "cell_type": "code",
   "execution_count": 15,
   "id": "metropolitan-convenience",
   "metadata": {},
   "outputs": [
    {
     "name": "stderr",
     "output_type": "stream",
     "text": [
      "ibmqfactory.load_account:WARNING:2021-03-04 12:43:56,254: Credentials are already in use. The existing account in the session will be replaced.\n"
     ]
    }
   ],
   "source": [
    "from qiskit from assemble, transpile\n",
    "######################\n",
    "circuit = QuantumCircuit(3, 3)\n",
    "circuit.h(0)\n",
    "circuit.cx([0],[1])\n",
    "circuit.cx([1],[2])\n",
    "circuit.measure([0], [0]) \n",
    "circuit.measure([1], [1])\n",
    "circuit.measure([2], [2])\n",
    "job = execute(circuit, simulator, shots=1000)\n",
    "######################\n",
    "provider = IBMQ.load_account()\n",
    "backend = provider.backends.ibmq_belem\n",
    "qobj = assemble(transpile(circuit, backend=backend), backend=backend)\n",
    "job = backend.run(qobj)\n",
    "retrieved_job = backend.retrieve_job(job.job_id())"
   ]
  },
  {
   "attachments": {
    "circuit.PNG": {
     "image/png": "[encoded data removed]"
    }
   },
   "cell_type": "markdown",
   "id": "acoustic-review",
   "metadata": {},
   "source": [
    "![circuit.PNG](attachment:circuit.PNG)"
   ]
  },
  {
   "attachments": {
    "apcc.PNG": {
     "image/png": "[encoded data removed]"
    }
   },
   "cell_type": "markdown",
   "id": "vulnerable-radar",
   "metadata": {},
   "source": [
    "![apcc.PNG](attachment:apcc.PNG)"
   ]
  },
  {
   "cell_type": "code",
   "execution_count": 23,
   "id": "thorough-accreditation",
   "metadata": {},
   "outputs": [
    {
     "name": "stderr",
     "output_type": "stream",
     "text": [
      "ibmqfactory.load_account:WARNING:2021-03-04 13:17:53,198: Credentials are already in use. The existing account in the session will be replaced.\n"
     ]
    },
    {
     "name": "stdout",
     "output_type": "stream",
     "text": [
      "\n",
      "Número de ocurrencias para 0 y 1: {'000': 492, '001': 24, '010': 5, '011': 25, '100': 5, '101': 9, '110': 45, '111': 419}\n"
     ]
    },
    {
     "data": {
      "text/html": [
       "<pre style=\"word-wrap: normal;white-space: pre;background: #fff0;line-height: 1.1;font-family: &quot;Courier New&quot;,Courier,monospace\">     ┌───┐          ┌─┐      \n",
       "q_0: ┤ H ├──■───────┤M├──────\n",
       "     └───┘┌─┴─┐     └╥┘┌─┐   \n",
       "q_1: ─────┤ X ├──■───╫─┤M├───\n",
       "          └───┘┌─┴─┐ ║ └╥┘┌─┐\n",
       "q_2: ──────────┤ X ├─╫──╫─┤M├\n",
       "               └───┘ ║  ║ └╥┘\n",
       "c: 3/════════════════╩══╩══╩═\n",
       "                     0  1  2 </pre>"
      ],
      "text/plain": [
       "     ┌───┐          ┌─┐      \n",
       "q_0: ┤ H ├──■───────┤M├──────\n",
       "     └───┘┌─┴─┐     └╥┘┌─┐   \n",
       "q_1: ─────┤ X ├──■───╫─┤M├───\n",
       "          └───┘┌─┴─┐ ║ └╥┘┌─┐\n",
       "q_2: ──────────┤ X ├─╫──╫─┤M├\n",
       "               └───┘ ║  ║ └╥┘\n",
       "c: 3/════════════════╩══╩══╩═\n",
       "                     0  1  2 "
      ]
     },
     "execution_count": 23,
     "metadata": {},
     "output_type": "execute_result"
    }
   ],
   "source": [
    "##Simulacion con ruido\n",
    "from qiskit import QuantumCircuit, execute\n",
    "from qiskit import IBMQ, Aer\n",
    "from qiskit.visualization import plot_histogram\n",
    "from qiskit.providers.aer.noise import NoiseModel\n",
    "\n",
    "# Construir un modelo de ruido a partir de las características de un backend real\n",
    "provider = IBMQ.load_account()\n",
    "backend = provider.get_backend('ibmq_belem')\n",
    "noise_model = NoiseModel.from_backend(backend)\n",
    "\n",
    "# Obtener el mapa de interconexión de los qubits\n",
    "coupling_map = backend.configuration().coupling_map\n",
    "# Obtener las características de las puertas básicas\n",
    "basis_gates = noise_model.basis_gates\n",
    "######################\n",
    "# Crear circuito #\n",
    "circuit = QuantumCircuit(3, 3)\n",
    "circuit.h(0)\n",
    "circuit.cx([0],[1])\n",
    "circuit.cx([1],[2])\n",
    "circuit.measure([0], [0]) \n",
    "circuit.measure([1], [1])\n",
    "circuit.measure([2], [2])\n",
    "job = execute(circuit, simulator, shots=1000)\n",
    "######################\n",
    "\n",
    "# Perform a noise simulation\n",
    "result = execute(circuit, Aer.get_backend('qasm_simulator'),\n",
    "coupling_map=coupling_map,\n",
    "basis_gates=basis_gates,\n",
    "noise_model=noise_model).result()\n",
    "######################\n",
    "# Mostrar resultados #\n",
    "counts = result.get_counts(circuit)\n",
    "# Escribimos el número de ocurrencias\n",
    "print(\"\\nNúmero de ocurrencias para 0 y 1:\",counts)\n",
    "# Dibujamos el circuito\n",
    "circuit.draw()\n",
    "######################"
   ]
  },
  {
   "cell_type": "markdown",
   "id": "subjective-article",
   "metadata": {},
   "source": [
    "# #Diferencias\n",
    "Utilizando la computadora cuantico real de Ibmq_belen y el simulador de ruidos, obtuvimos un resultado simular.\n",
    "El ruido, afecta al computador cuantico en los calculos, pueden hacer que los qubits se “caigan” de su estado de superposición antes de que hayan terminado de realizar su trabajo.\n",
    "Por eso en el computador real cuantico y en el simulafor de ruidos no salen otros bits con muy baja posibilidad."
   ]
  },
  {
   "cell_type": "code",
   "execution_count": null,
   "id": "representative-dominican",
   "metadata": {},
   "outputs": [],
   "source": []
  }
 ],
 "metadata": {
  "kernelspec": {
   "display_name": "Python 3",
   "language": "python",
   "name": "python3"
  },
  "language_info": {
   "codemirror_mode": {
    "name": "ipython",
    "version": 3
   },
   "file_extension": ".py",
   "mimetype": "text/x-python",
   "name": "python",
   "nbconvert_exporter": "python",
   "pygments_lexer": "ipython3",
   "version": "3.8.5"
  }
 },
 "nbformat": 4,
 "nbformat_minor": 5
}
