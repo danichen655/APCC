{
 "cells": [
  {
   "cell_type": "code",
   "execution_count": 1,
   "id": "united-matthew",
   "metadata": {},
   "outputs": [],
   "source": [
    "from pyquil import Program, get_qc\n",
    "from pyquil.gates import *\n",
    "from pyquil.api import WavefunctionSimulator"
   ]
  },
  {
   "cell_type": "markdown",
   "id": "congressional-france",
   "metadata": {},
   "source": [
    "## Algoritmo de Deutsch-Jozsa para 2 qubits"
   ]
  },
  {
   "cell_type": "code",
   "execution_count": 2,
   "id": "living-reform",
   "metadata": {},
   "outputs": [],
   "source": [
    "n = 2"
   ]
  },
  {
   "cell_type": "code",
   "execution_count": 30,
   "id": "excess-accounting",
   "metadata": {},
   "outputs": [],
   "source": [
    "def circuitoIni(n):\n",
    "    qc = Program()\n",
    "    qc += X(qubit = n)\n",
    "    for i in range(n+1):\n",
    "        qc += H(qubit = i)\n",
    "    return qc"
   ]
  },
  {
   "cell_type": "code",
   "execution_count": 31,
   "id": "enabling-virtue",
   "metadata": {},
   "outputs": [
    {
     "name": "stdout",
     "output_type": "stream",
     "text": [
      "X 2\n",
      "H 0\n",
      "H 1\n",
      "H 2\n",
      "\n"
     ]
    }
   ],
   "source": [
    "qc = circuitoIni(n)\n",
    "print (qc)"
   ]
  },
  {
   "cell_type": "code",
   "execution_count": 32,
   "id": "inner-emphasis",
   "metadata": {},
   "outputs": [],
   "source": [
    "def circuitoFin(n):\n",
    "    qc3 = Program()\n",
    "    for i in range(n):\n",
    "        qc3 += H(qubit = i)\n",
    "    return qc3"
   ]
  },
  {
   "cell_type": "code",
   "execution_count": 33,
   "id": "therapeutic-finish",
   "metadata": {},
   "outputs": [
    {
     "name": "stdout",
     "output_type": "stream",
     "text": [
      "H 0\n",
      "H 1\n",
      "\n"
     ]
    }
   ],
   "source": [
    "qc = circuitoFin(n)\n",
    "print(qc)"
   ]
  },
  {
   "cell_type": "markdown",
   "id": "engaging-healthcare",
   "metadata": {},
   "source": [
    "### Constantes para 2 qubits"
   ]
  },
  {
   "cell_type": "code",
   "execution_count": 34,
   "id": "critical-profit",
   "metadata": {},
   "outputs": [
    {
     "name": "stdout",
     "output_type": "stream",
     "text": [
      "\n"
     ]
    }
   ],
   "source": [
    "constante0 = Program()\n",
    "print(constante0)"
   ]
  },
  {
   "cell_type": "code",
   "execution_count": 35,
   "id": "julian-solid",
   "metadata": {},
   "outputs": [
    {
     "name": "stdout",
     "output_type": "stream",
     "text": [
      "CNOT 0 2\n",
      "X 1\n",
      "CNOT 0 2\n",
      "CNOT 1 2\n",
      "X 1\n",
      "CNOT 1 2\n",
      "\n"
     ]
    }
   ],
   "source": [
    "constante1 = Program()\n",
    "constante1 += CNOT(0,n)\n",
    "constante1 += X(qubit = 1)\n",
    "constante1 += CNOT(0,n)\n",
    "constante1 += CNOT(1,n)\n",
    "constante1 += X(qubit = 1)\n",
    "constante1 += CNOT(1,n)\n",
    "print(constante1)"
   ]
  },
  {
   "cell_type": "markdown",
   "id": "union-respondent",
   "metadata": {},
   "source": [
    "### Balanceado para 2 qubits"
   ]
  },
  {
   "cell_type": "code",
   "execution_count": 36,
   "id": "tired-vatican",
   "metadata": {},
   "outputs": [
    {
     "name": "stdout",
     "output_type": "stream",
     "text": [
      "CNOT 0 2\n",
      "CNOT 1 2\n",
      "\n"
     ]
    }
   ],
   "source": [
    "balanced1 = Program()\n",
    "balanced1 += CNOT(0,n)\n",
    "balanced1 += CNOT(1,n)\n",
    "\n",
    "print(balanced1)"
   ]
  },
  {
   "cell_type": "code",
   "execution_count": 37,
   "id": "toxic-integral",
   "metadata": {},
   "outputs": [
    {
     "name": "stdout",
     "output_type": "stream",
     "text": [
      "CNOT 0 2\n",
      "\n"
     ]
    }
   ],
   "source": [
    "balanced0 = Program()\n",
    "balanced0 += CNOT(0,n)\n",
    "print(balanced0)"
   ]
  },
  {
   "cell_type": "code",
   "execution_count": 38,
   "id": "ready-daughter",
   "metadata": {},
   "outputs": [],
   "source": [
    "#anhadimos los oraculos en el diccionario\n",
    "oraculos = dict()\n",
    "oraculos['constante0'] = constante0\n",
    "oraculos['constante1'] = constante1\n",
    "oraculos['balanced1'] = balanced1\n",
    "oraculos['balanced0'] = balanced0"
   ]
  },
  {
   "cell_type": "code",
   "execution_count": 39,
   "id": "light-rubber",
   "metadata": {},
   "outputs": [],
   "source": [
    "def deutsch_jozsa(n, oraculo):\n",
    "    qc = Program()\n",
    "    qc += circuitoIni(n)\n",
    "    qc +=oraculos[oraculo]\n",
    "    qc +=circuitoFin(n)\n",
    "    return qc"
   ]
  },
  {
   "cell_type": "code",
   "execution_count": 47,
   "id": "continuing-korea",
   "metadata": {},
   "outputs": [
    {
     "data": {
      "text/plain": [
       "[0, 1, 2]"
      ]
     },
     "execution_count": 47,
     "metadata": {},
     "output_type": "execute_result"
    }
   ],
   "source": [
    "qc = get_qc('3q-qvm') # un computador cuantica de 2 qubits para poder hacer la simulacion.\n",
    "qc.qubits()"
   ]
  },
  {
   "cell_type": "markdown",
   "id": "noticed-cleaning",
   "metadata": {},
   "source": [
    "### Contante 0"
   ]
  },
  {
   "cell_type": "code",
   "execution_count": 48,
   "id": "narrow-germany",
   "metadata": {},
   "outputs": [
    {
     "name": "stdout",
     "output_type": "stream",
     "text": [
      "X 2\n",
      "H 0\n",
      "H 1\n",
      "H 2\n",
      "H 0\n",
      "H 1\n",
      "\n"
     ]
    }
   ],
   "source": [
    "constante0Circuit = deutsch_jozsa(n, 'constante0')\n",
    "print(constante0Circuit)"
   ]
  },
  {
   "cell_type": "code",
   "execution_count": 49,
   "id": "continent-foundation",
   "metadata": {},
   "outputs": [],
   "source": [
    "wf_sim = WavefunctionSimulator()\n",
    "wavefunction = wf_sim.wavefunction(constante0Circuit)"
   ]
  },
  {
   "cell_type": "code",
   "execution_count": 50,
   "id": "relative-stranger",
   "metadata": {},
   "outputs": [
    {
     "name": "stdout",
     "output_type": "stream",
     "text": [
      "(0.7071067812+0j)|000> + (-0.7071067812+0j)|100>\n"
     ]
    }
   ],
   "source": [
    "print(wavefunction)"
   ]
  },
  {
   "cell_type": "code",
   "execution_count": 51,
   "id": "removed-native",
   "metadata": {},
   "outputs": [
    {
     "data": {
      "text/plain": [
       "{0: array([0, 0, 0, 0, 0, 0, 0, 0, 0, 0]),\n",
       " 1: array([0, 0, 0, 0, 0, 0, 0, 0, 0, 0]),\n",
       " 2: array([0, 0, 0, 0, 0, 1, 1, 1, 1, 1])}"
      ]
     },
     "execution_count": 51,
     "metadata": {},
     "output_type": "execute_result"
    }
   ],
   "source": [
    "bitstrings = qc.run_and_measure(constante0Circuit, trials=10)\n",
    "bitstrings"
   ]
  },
  {
   "cell_type": "markdown",
   "id": "intelligent-pittsburgh",
   "metadata": {},
   "source": [
    "Como vemos, al aplicar el algoritmo, el qubit 0 y el 1 nos ha devuelto todos los estado a 0. En cambio, el qubit 2 tiene un 50% de ser 1 o 0. Por lo que nuestro algortimo con el oraculo funciona"
   ]
  },
  {
   "cell_type": "markdown",
   "id": "macro-playlist",
   "metadata": {},
   "source": [
    "### Contante 1"
   ]
  },
  {
   "cell_type": "code",
   "execution_count": 52,
   "id": "quality-multiple",
   "metadata": {},
   "outputs": [
    {
     "name": "stdout",
     "output_type": "stream",
     "text": [
      "X 2\n",
      "H 0\n",
      "H 1\n",
      "H 2\n",
      "CNOT 0 2\n",
      "X 1\n",
      "CNOT 0 2\n",
      "CNOT 1 2\n",
      "X 1\n",
      "CNOT 1 2\n",
      "H 0\n",
      "H 1\n",
      "\n"
     ]
    }
   ],
   "source": [
    "constante1Circuit = deutsch_jozsa(n, 'constante1')\n",
    "print(constante1Circuit)"
   ]
  },
  {
   "cell_type": "code",
   "execution_count": 53,
   "id": "right-shield",
   "metadata": {},
   "outputs": [
    {
     "data": {
      "text/plain": [
       "{0: array([0, 0, 0, 0, 0, 0, 0, 0, 0, 0]),\n",
       " 1: array([0, 0, 0, 0, 0, 0, 0, 0, 0, 0]),\n",
       " 2: array([1, 0, 0, 1, 1, 1, 0, 0, 1, 0])}"
      ]
     },
     "execution_count": 53,
     "metadata": {},
     "output_type": "execute_result"
    }
   ],
   "source": [
    "bitstrings = qc.run_and_measure(constante1Circuit, trials=10)\n",
    "bitstrings"
   ]
  },
  {
   "cell_type": "markdown",
   "id": "fourth-egyptian",
   "metadata": {},
   "source": [
    "Como vemos, al aplicar el algoritmo, el qubit 0 y el 1 nos ha devuelto todos los estado a 0. En cambio, el qubit 2 tiene un 50% de ser 1 o 0. Por lo que nuestro algortimo con el oraculo funciona"
   ]
  },
  {
   "cell_type": "markdown",
   "id": "negative-mirror",
   "metadata": {},
   "source": [
    "### Balanceado 0"
   ]
  },
  {
   "cell_type": "code",
   "execution_count": 54,
   "id": "selected-retirement",
   "metadata": {},
   "outputs": [
    {
     "name": "stdout",
     "output_type": "stream",
     "text": [
      "X 2\n",
      "H 0\n",
      "H 1\n",
      "H 2\n",
      "CNOT 0 2\n",
      "H 0\n",
      "H 1\n",
      "\n"
     ]
    }
   ],
   "source": [
    "balanced0Circuit = deutsch_jozsa(n, 'balanced0')\n",
    "print(balanced0Circuit)"
   ]
  },
  {
   "cell_type": "code",
   "execution_count": 55,
   "id": "norman-kingston",
   "metadata": {},
   "outputs": [
    {
     "data": {
      "text/plain": [
       "{0: array([1, 1, 1, 1, 1, 1, 1, 1, 1, 1]),\n",
       " 1: array([0, 0, 0, 0, 0, 0, 0, 0, 0, 0]),\n",
       " 2: array([1, 1, 0, 0, 1, 1, 1, 1, 0, 0])}"
      ]
     },
     "execution_count": 55,
     "metadata": {},
     "output_type": "execute_result"
    }
   ],
   "source": [
    "bitstrings = qc.run_and_measure(balanced0Circuit, trials=10)\n",
    "bitstrings"
   ]
  },
  {
   "cell_type": "markdown",
   "id": "german-swimming",
   "metadata": {},
   "source": [
    "Como vemos, al aplicar el algoritmo, los qubits menos significativos nos ha devuelto todos los estado distintos de 00. En cambio, el qubit 2 tiene un 50% de ser 1 o 0. Por lo que nuestro algortimo con el oraculo funciona."
   ]
  },
  {
   "cell_type": "markdown",
   "id": "accepting-dress",
   "metadata": {},
   "source": [
    "### Balanceado 1"
   ]
  },
  {
   "cell_type": "code",
   "execution_count": 56,
   "id": "italian-physiology",
   "metadata": {
    "scrolled": true
   },
   "outputs": [
    {
     "name": "stdout",
     "output_type": "stream",
     "text": [
      "X 2\n",
      "H 0\n",
      "H 1\n",
      "H 2\n",
      "CNOT 0 2\n",
      "H 0\n",
      "H 1\n",
      "\n"
     ]
    }
   ],
   "source": [
    "balanced1Circuit = deutsch_jozsa(n, 'balanced1')\n",
    "print(balanced0Circuit)"
   ]
  },
  {
   "cell_type": "code",
   "execution_count": 58,
   "id": "frank-harbor",
   "metadata": {},
   "outputs": [
    {
     "data": {
      "text/plain": [
       "{0: array([1, 1, 1, 1, 1, 1, 1, 1, 1, 1]),\n",
       " 1: array([1, 1, 1, 1, 1, 1, 1, 1, 1, 1]),\n",
       " 2: array([0, 1, 1, 1, 0, 0, 0, 0, 0, 1])}"
      ]
     },
     "execution_count": 58,
     "metadata": {},
     "output_type": "execute_result"
    }
   ],
   "source": [
    "bitstrings = qc.run_and_measure(balanced1Circuit, trials=10)\n",
    "bitstrings"
   ]
  },
  {
   "cell_type": "markdown",
   "id": "continued-albert",
   "metadata": {},
   "source": [
    "Como vemos, al aplicar el algoritmo, los qubits menos significativos nos ha devuelto todos los estado distintos de 00. En cambio, el qubit 2 tiene un 50% de ser 1 o 0. Por lo que nuestro algortimo con el oraculo funciona."
   ]
  }
 ],
 "metadata": {
  "kernelspec": {
   "display_name": "Python 3",
   "language": "python",
   "name": "python3"
  },
  "language_info": {
   "codemirror_mode": {
    "name": "ipython",
    "version": 3
   },
   "file_extension": ".py",
   "mimetype": "text/x-python",
   "name": "python",
   "nbconvert_exporter": "python",
   "pygments_lexer": "ipython3",
   "version": "3.8.5"
  }
 },
 "nbformat": 4,
 "nbformat_minor": 5
}
