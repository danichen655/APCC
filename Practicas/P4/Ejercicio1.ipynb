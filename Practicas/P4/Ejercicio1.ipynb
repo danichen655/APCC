{
 "cells": [
  {
   "cell_type": "code",
   "execution_count": 1,
   "id": "sorted-queensland",
   "metadata": {},
   "outputs": [],
   "source": [
    "from pyquil import Program, get_qc\n",
    "from pyquil.gates import *\n",
    "from pyquil.api import WavefunctionSimulator"
   ]
  },
  {
   "cell_type": "code",
   "execution_count": 2,
   "id": "surrounded-tunisia",
   "metadata": {},
   "outputs": [],
   "source": [
    "n = 2"
   ]
  },
  {
   "cell_type": "code",
   "execution_count": 6,
   "id": "equipped-bullet",
   "metadata": {},
   "outputs": [
    {
     "name": "stdout",
     "output_type": "stream",
     "text": [
      "CNOT 0 1\n",
      "\n"
     ]
    }
   ],
   "source": [
    "oracle_Balanceado0 = Program()\n",
    "\n",
    "oracle_Balanceado0 += CNOT(0,1)\n",
    "print(oracle_Balanceado0)"
   ]
  },
  {
   "cell_type": "code",
   "execution_count": 8,
   "id": "damaged-roller",
   "metadata": {},
   "outputs": [
    {
     "name": "stdout",
     "output_type": "stream",
     "text": [
      "CNOT 0 1\n",
      "X 1\n",
      "\n"
     ]
    }
   ],
   "source": [
    "oracle_Balanceado1 = Program()\n",
    "\n",
    "oracle_Balanceado1 += CNOT(0,1)\n",
    "oracle_Balanceado1 += X(qubit = 1)\n",
    "print(oracle_Balanceado1)"
   ]
  },
  {
   "cell_type": "code",
   "execution_count": 9,
   "id": "cultural-reduction",
   "metadata": {},
   "outputs": [
    {
     "name": "stdout",
     "output_type": "stream",
     "text": [
      "\n"
     ]
    }
   ],
   "source": [
    "oracle_cosntante0 = Program()\n",
    "print(oracle_cosntante0)"
   ]
  },
  {
   "cell_type": "code",
   "execution_count": 10,
   "id": "personal-slope",
   "metadata": {},
   "outputs": [
    {
     "name": "stdout",
     "output_type": "stream",
     "text": [
      "CNOT 0 1\n",
      "X 1\n",
      "CNOT 0 1\n",
      "\n"
     ]
    }
   ],
   "source": [
    "oracle_cosntante1 = Program()\n",
    "\n",
    "oracle_cosntante1 += CNOT(0,1)\n",
    "oracle_cosntante1 += X(qubit = 1)\n",
    "oracle_cosntante1 += CNOT(0,1)\n",
    "\n",
    "print(oracle_cosntante1)"
   ]
  },
  {
   "cell_type": "code",
   "execution_count": 11,
   "id": "paperback-asthma",
   "metadata": {},
   "outputs": [],
   "source": [
    "oracles = dict()\n",
    "oracles['cosntante1'] = oracle_cosntante1\n",
    "oracles['cosntante0'] = oracle_cosntante0\n",
    "oracles['Balanceado0'] = oracle_Balanceado0\n",
    "oracles['Balanceado1'] = oracle_Balanceado1"
   ]
  },
  {
   "cell_type": "code",
   "execution_count": 13,
   "id": "obvious-alabama",
   "metadata": {},
   "outputs": [],
   "source": [
    "def crear_oracle(oracle):\n",
    "    oracle_qc = Program()\n",
    "    \n",
    "    oracle_qc += X(qubit = 1)\n",
    "    oracle_qc += H(qubit = 1)\n",
    "    oracle_qc += H(qubit = 0)\n",
    "    oracle_qc += oracles[oracle]\n",
    "    oracle_qc += H(qubit = 0)\n",
    "    return oracle_qc"
   ]
  },
  {
   "cell_type": "code",
   "execution_count": 51,
   "id": "basic-timer",
   "metadata": {},
   "outputs": [
    {
     "data": {
      "text/plain": [
       "[0, 1]"
      ]
     },
     "execution_count": 51,
     "metadata": {},
     "output_type": "execute_result"
    }
   ],
   "source": [
    "qc = get_qc('2q-qvm') # un computador cuantica de 2 qubits para poder hacer la simulacion.\n",
    "qc.qubits()"
   ]
  },
  {
   "cell_type": "markdown",
   "id": "metropolitan-somerset",
   "metadata": {},
   "source": [
    "### Constante 1"
   ]
  },
  {
   "cell_type": "code",
   "execution_count": 52,
   "id": "underlying-mills",
   "metadata": {},
   "outputs": [
    {
     "name": "stdout",
     "output_type": "stream",
     "text": [
      "X 1\n",
      "H 1\n",
      "H 0\n",
      "CNOT 0 1\n",
      "X 1\n",
      "CNOT 0 1\n",
      "H 0\n",
      "\n"
     ]
    }
   ],
   "source": [
    "dj_circuit = crear_oracle('cosntante1')\n",
    "print(dj_circuit)"
   ]
  },
  {
   "cell_type": "code",
   "execution_count": 53,
   "id": "cubic-nicaragua",
   "metadata": {},
   "outputs": [],
   "source": [
    "wf_sim = WavefunctionSimulator()\n",
    "wavefunction = wf_sim.wavefunction(dj_circuit)"
   ]
  },
  {
   "cell_type": "code",
   "execution_count": 54,
   "id": "committed-ordering",
   "metadata": {},
   "outputs": [
    {
     "name": "stdout",
     "output_type": "stream",
     "text": [
      "(-0.7071067812+0j)|00> + (0.7071067812+0j)|10>\n"
     ]
    }
   ],
   "source": [
    "print(wavefunction)"
   ]
  },
  {
   "cell_type": "code",
   "execution_count": 55,
   "id": "touched-directive",
   "metadata": {
    "scrolled": true
   },
   "outputs": [
    {
     "data": {
      "text/plain": [
       "{0: array([0, 0, 0, 0, 0, 0, 0, 0, 0, 0]),\n",
       " 1: array([1, 1, 1, 0, 1, 1, 0, 1, 0, 0])}"
      ]
     },
     "execution_count": 55,
     "metadata": {},
     "output_type": "execute_result"
    }
   ],
   "source": [
    "bitstrings = qc.run_and_measure(dj_circuit, trials=10)\n",
    "bitstrings"
   ]
  },
  {
   "cell_type": "markdown",
   "id": "chinese-transparency",
   "metadata": {},
   "source": [
    "Como vemos, al aplicar el algoritmo, el qubit 0 nos ha devuelto todos los estado a 0. En cambio, el qubit 1 tiene un 50% de ser 1 o 0. Por lo que nuestro algortimo con el oraculo funciona"
   ]
  },
  {
   "cell_type": "markdown",
   "id": "controversial-discharge",
   "metadata": {},
   "source": [
    "### Constante 0"
   ]
  },
  {
   "cell_type": "code",
   "execution_count": 57,
   "id": "proper-patio",
   "metadata": {},
   "outputs": [
    {
     "name": "stdout",
     "output_type": "stream",
     "text": [
      "X 1\n",
      "H 1\n",
      "H 0\n",
      "H 0\n",
      "\n"
     ]
    }
   ],
   "source": [
    "dj_circuit = crear_oracle('cosntante0')\n",
    "print(dj_circuit)"
   ]
  },
  {
   "cell_type": "code",
   "execution_count": 58,
   "id": "anonymous-junior",
   "metadata": {},
   "outputs": [],
   "source": [
    "wf_sim = WavefunctionSimulator()\n",
    "wavefunction = wf_sim.wavefunction(dj_circuit)"
   ]
  },
  {
   "cell_type": "code",
   "execution_count": 59,
   "id": "thrown-socket",
   "metadata": {},
   "outputs": [
    {
     "name": "stdout",
     "output_type": "stream",
     "text": [
      "(0.7071067812+0j)|00> + (-0.7071067812+0j)|10>\n"
     ]
    }
   ],
   "source": [
    "print(wavefunction)"
   ]
  },
  {
   "cell_type": "code",
   "execution_count": 60,
   "id": "focused-language",
   "metadata": {
    "scrolled": true
   },
   "outputs": [
    {
     "data": {
      "text/plain": [
       "{0: array([0, 0, 0, 0, 0, 0, 0, 0, 0, 0]),\n",
       " 1: array([1, 1, 0, 0, 1, 0, 1, 0, 1, 0])}"
      ]
     },
     "execution_count": 60,
     "metadata": {},
     "output_type": "execute_result"
    }
   ],
   "source": [
    "bitstrings = qc.run_and_measure(dj_circuit, trials=10)\n",
    "bitstrings"
   ]
  },
  {
   "cell_type": "markdown",
   "id": "compound-mineral",
   "metadata": {},
   "source": [
    "Como vemos, al aplicar el algoritmo, el qubit 0 nos ha devuelto todos los estado a 0. En cambio, el qubit 1 tiene un 50% de ser 1 o 0."
   ]
  },
  {
   "cell_type": "markdown",
   "id": "recorded-converter",
   "metadata": {},
   "source": [
    "### Balanceado 0"
   ]
  },
  {
   "cell_type": "code",
   "execution_count": 63,
   "id": "conceptual-bishop",
   "metadata": {},
   "outputs": [
    {
     "name": "stdout",
     "output_type": "stream",
     "text": [
      "X 1\n",
      "H 1\n",
      "H 0\n",
      "CNOT 0 1\n",
      "H 0\n",
      "\n"
     ]
    }
   ],
   "source": [
    "dj_circuit = crear_oracle('Balanceado0')\n",
    "print(dj_circuit)"
   ]
  },
  {
   "cell_type": "code",
   "execution_count": 64,
   "id": "bigger-concert",
   "metadata": {},
   "outputs": [],
   "source": [
    "wf_sim = WavefunctionSimulator()\n",
    "wavefunction = wf_sim.wavefunction(dj_circuit)"
   ]
  },
  {
   "cell_type": "code",
   "execution_count": 65,
   "id": "impressed-manhattan",
   "metadata": {},
   "outputs": [
    {
     "name": "stdout",
     "output_type": "stream",
     "text": [
      "(0.7071067812+0j)|01> + (-0.7071067812+0j)|11>\n"
     ]
    }
   ],
   "source": [
    "print(wavefunction)"
   ]
  },
  {
   "cell_type": "code",
   "execution_count": 66,
   "id": "opening-defeat",
   "metadata": {
    "scrolled": true
   },
   "outputs": [
    {
     "data": {
      "text/plain": [
       "{0: array([1, 1, 1, 1, 1, 1, 1, 1, 1, 1]),\n",
       " 1: array([1, 1, 1, 0, 0, 0, 0, 0, 0, 1])}"
      ]
     },
     "execution_count": 66,
     "metadata": {},
     "output_type": "execute_result"
    }
   ],
   "source": [
    "bitstrings = qc.run_and_measure(dj_circuit, trials=10)\n",
    "bitstrings"
   ]
  },
  {
   "cell_type": "markdown",
   "id": "everyday-short",
   "metadata": {},
   "source": [
    "Como vemos, al aplicar el algoritmo con el oraculo Balanceado, el qubit 1 nos ha devuelto todos los estado a 1. En cambio, el qubit 1 tiene un 50% de ser 1 o 0."
   ]
  },
  {
   "cell_type": "markdown",
   "id": "round-conservation",
   "metadata": {},
   "source": [
    "### Balanceado 1"
   ]
  },
  {
   "cell_type": "code",
   "execution_count": 67,
   "id": "experienced-generator",
   "metadata": {},
   "outputs": [
    {
     "name": "stdout",
     "output_type": "stream",
     "text": [
      "X 1\n",
      "H 1\n",
      "H 0\n",
      "CNOT 0 1\n",
      "X 1\n",
      "H 0\n",
      "\n"
     ]
    }
   ],
   "source": [
    "dj_circuit = crear_oracle('Balanceado1')\n",
    "print(dj_circuit)"
   ]
  },
  {
   "cell_type": "code",
   "execution_count": 68,
   "id": "clean-elevation",
   "metadata": {},
   "outputs": [],
   "source": [
    "wf_sim = WavefunctionSimulator()\n",
    "wavefunction = wf_sim.wavefunction(dj_circuit)"
   ]
  },
  {
   "cell_type": "code",
   "execution_count": 69,
   "id": "prerequisite-louis",
   "metadata": {},
   "outputs": [
    {
     "name": "stdout",
     "output_type": "stream",
     "text": [
      "(-0.7071067812+0j)|01> + (0.7071067812+0j)|11>\n"
     ]
    }
   ],
   "source": [
    "print(wavefunction)"
   ]
  },
  {
   "cell_type": "code",
   "execution_count": 70,
   "id": "exempt-london",
   "metadata": {
    "scrolled": true
   },
   "outputs": [
    {
     "data": {
      "text/plain": [
       "{0: array([1, 1, 1, 1, 1, 1, 1, 1, 1, 1]),\n",
       " 1: array([1, 1, 1, 0, 0, 1, 0, 0, 0, 1])}"
      ]
     },
     "execution_count": 70,
     "metadata": {},
     "output_type": "execute_result"
    }
   ],
   "source": [
    "bitstrings = qc.run_and_measure(dj_circuit, trials=10)\n",
    "bitstrings"
   ]
  },
  {
   "cell_type": "markdown",
   "id": "alone-newcastle",
   "metadata": {},
   "source": [
    "Como vemos, al aplicar el algoritmo con el oraculo Balanceado, el qubit 1 nos ha devuelto todos los estado a 1. En cambio, el qubit 1 tiene un 50% de ser 1 o 0."
   ]
  }
 ],
 "metadata": {
  "kernelspec": {
   "display_name": "Python 3",
   "language": "python",
   "name": "python3"
  },
  "language_info": {
   "codemirror_mode": {
    "name": "ipython",
    "version": 3
   },
   "file_extension": ".py",
   "mimetype": "text/x-python",
   "name": "python",
   "nbconvert_exporter": "python",
   "pygments_lexer": "ipython3",
   "version": "3.8.5"
  }
 },
 "nbformat": 4,
 "nbformat_minor": 5
}
