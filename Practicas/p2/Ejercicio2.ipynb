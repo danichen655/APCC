{
 "cells": [
  {
   "cell_type": "code",
   "execution_count": 1,
   "id": "diverse-envelope",
   "metadata": {},
   "outputs": [],
   "source": [
    "import cirq\n",
    "import numpy as np"
   ]
  },
  {
   "cell_type": "code",
   "execution_count": 20,
   "id": "yellow-neighbor",
   "metadata": {},
   "outputs": [],
   "source": [
    "def superdense_coding_circuit(mssg):\n",
    "    \n",
    "    # create two qubits\n",
    "    alice = cirq.NamedQubit('alice')\n",
    "    bob = cirq.NamedQubit('bob')\n",
    "\n",
    "    # create cirquit\n",
    "    superdense = cirq.Circuit()\n",
    "    superdense.append([cirq.H(alice),cirq.CNOT(alice,bob)])\n",
    "    \n",
    "    \n",
    "    if mssg == '01':\n",
    "        superdense.append([cirq.X(alice)])\n",
    "    elif mssg == '11':\n",
    "        superdense.append([cirq.X(alice)])\n",
    "        superdense.append([cirq.Z(alice)])\n",
    "    elif mssg == '10':\n",
    "        superdense.append([cirq.Z(alice)])\n",
    "    \n",
    "    superdense.append([cirq.CNOT(alice,bob),cirq.H(alice)])\n",
    "    superdense.append(cirq.measure(alice, bob, key='received'))\n",
    "\n",
    "    print(superdense)\n",
    "    \n",
    "    simulator = cirq.Simulator()\n",
    "    message = simulator.run(superdense, repetitions=1)\n",
    "\n",
    "    print(message)\n"
   ]
  },
  {
   "cell_type": "markdown",
   "id": "apart-processing",
   "metadata": {},
   "source": [
    "## Prueba 1\n",
    "Con bits 11"
   ]
  },
  {
   "cell_type": "code",
   "execution_count": 24,
   "id": "legal-source",
   "metadata": {},
   "outputs": [
    {
     "name": "stdout",
     "output_type": "stream",
     "text": [
      "alice: ───H───@───X───Z───@───H───M('received')───\n",
      "              │           │       │\n",
      "bob: ─────────X───────────X───────M───────────────\n",
      "received=1, 1\n"
     ]
    }
   ],
   "source": [
    "superdense_coding_circuit('11')"
   ]
  },
  {
   "cell_type": "markdown",
   "id": "mediterranean-cycle",
   "metadata": {},
   "source": [
    "Como sabemos que la codificacion superdensa, es capaz de trasferir dos bits clasicos en un qubit mendiante un canal cuantico. En nuestro circuito, Alice es el que envia los dos bits clasicos mediante el qubit, y Bob es el que recive, para ello tendremos que realizar una cierta de operaciones segun los bits que envia Alice (que el IF que tenemos). En esta caso hemos recibido el 11, los bits que ha enviado Alice.\n"
   ]
  },
  {
   "cell_type": "markdown",
   "id": "manual-slovak",
   "metadata": {},
   "source": [
    "## Prueba 2\n",
    "\n",
    "Con bits 01"
   ]
  },
  {
   "cell_type": "code",
   "execution_count": 25,
   "id": "whole-active",
   "metadata": {},
   "outputs": [
    {
     "name": "stdout",
     "output_type": "stream",
     "text": [
      "alice: ───H───@───X───@───H───M('received')───\n",
      "              │       │       │\n",
      "bob: ─────────X───────X───────M───────────────\n",
      "received=0, 1\n"
     ]
    }
   ],
   "source": [
    "superdense_coding_circuit('01')"
   ]
  },
  {
   "cell_type": "markdown",
   "id": "indirect-question",
   "metadata": {},
   "source": [
    "## Prueba 3\n",
    "Con bits 10"
   ]
  },
  {
   "cell_type": "code",
   "execution_count": 26,
   "id": "incoming-dallas",
   "metadata": {},
   "outputs": [
    {
     "name": "stdout",
     "output_type": "stream",
     "text": [
      "alice: ───H───@───Z───@───H───M('received')───\n",
      "              │       │       │\n",
      "bob: ─────────X───────X───────M───────────────\n",
      "received=1, 0\n"
     ]
    }
   ],
   "source": [
    "superdense_coding_circuit('10')"
   ]
  },
  {
   "cell_type": "markdown",
   "id": "cooperative-barrier",
   "metadata": {},
   "source": [
    "## Prueba 4\n",
    "\n",
    "Con bits 00"
   ]
  },
  {
   "cell_type": "code",
   "execution_count": 27,
   "id": "imperial-minimum",
   "metadata": {},
   "outputs": [
    {
     "name": "stdout",
     "output_type": "stream",
     "text": [
      "alice: ───H───@───@───H───M('received')───\n",
      "              │   │       │\n",
      "bob: ─────────X───X───────M───────────────\n",
      "received=0, 0\n"
     ]
    }
   ],
   "source": [
    "superdense_coding_circuit('00')"
   ]
  },
  {
   "cell_type": "markdown",
   "id": "pressed-temperature",
   "metadata": {},
   "source": [
    "# Comentario"
   ]
  },
  {
   "cell_type": "markdown",
   "id": "hired-opinion",
   "metadata": {},
   "source": [
    "Al ejecutarlos, vemos que bob realmente recive bien los bits enviado por Alice.\n",
    "\n",
    "Por otra parte, observamos que el teleportacion y la codificacion superdensa son procesos inversos, ya que en la codificacion\n",
    "superdensa, usamos un qubit para enviar dos bits, y la teleportacion, usamos dos bits para poder teleportar el qubit"
   ]
  }
 ],
 "metadata": {
  "kernelspec": {
   "display_name": "Python 3",
   "language": "python",
   "name": "python3"
  },
  "language_info": {
   "codemirror_mode": {
    "name": "ipython",
    "version": 3
   },
   "file_extension": ".py",
   "mimetype": "text/x-python",
   "name": "python",
   "nbconvert_exporter": "python",
   "pygments_lexer": "ipython3",
   "version": "3.8.5"
  }
 },
 "nbformat": 4,
 "nbformat_minor": 5
}
