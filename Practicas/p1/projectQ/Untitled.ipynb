{
 "cells": [
  {
   "cell_type": "code",
   "execution_count": 1,
   "metadata": {},
   "outputs": [],
   "source": [
    "from projectq import MainEngine  # import the main compiler engine\n",
    "from projectq.ops import H, Measure  # import the operations we want to perform (Hadamard and measurement)"
   ]
  },
  {
   "cell_type": "code",
   "execution_count": 48,
   "metadata": {},
   "outputs": [
    {
     "name": "stdout",
     "output_type": "stream",
     "text": [
      "Total numero de 0s: 103 Total numero de 1s:  97\n",
      "Porcentaje numero de 0s: 0.515 Porcentaje numero de 1s:  0.485\n"
     ]
    }
   ],
   "source": [
    "n = 200\n",
    "cont1 = 0\n",
    "cont0 = 0\n",
    "for i in range(n):\n",
    "    eng = MainEngine()  # create a default compiler (the back-end is a simulator)\n",
    "    qubit = eng.allocate_qubit()  # allocate 1 qubit\n",
    "    H | qubit  # apply a Hadamard gate\n",
    "    Measure | qubit  # measure the qubit\n",
    "\n",
    "    eng.flush()  # flush all gates (and execute measurements)\n",
    "    ##print(\"Measured {}\".format(int(qubit)))  # output measurement result\n",
    "    if int(qubit) == 0:\n",
    "        cont0+=1\n",
    "    else:\n",
    "        cont1+=1\n",
    "        \n",
    "print(\"Total numero de 0s:\", cont0,\"Total numero de 1s: \", cont1)\n",
    "print(\"Porcentaje numero de 0s:\", cont0/n,\"Porcentaje numero de 1s: \", cont1/n)"
   ]
  },
  {
   "cell_type": "code",
   "execution_count": null,
   "metadata": {},
   "outputs": [],
   "source": []
  }
 ],
 "metadata": {
  "kernelspec": {
   "display_name": "Python 3",
   "language": "python",
   "name": "python3"
  },
  "language_info": {
   "codemirror_mode": {
    "name": "ipython",
    "version": 3
   },
   "file_extension": ".py",
   "mimetype": "text/x-python",
   "name": "python",
   "nbconvert_exporter": "python",
   "pygments_lexer": "ipython3",
   "version": "3.8.5"
  }
 },
 "nbformat": 4,
 "nbformat_minor": 4
}
