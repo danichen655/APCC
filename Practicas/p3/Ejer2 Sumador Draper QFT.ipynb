{
 "cells": [
  {
   "cell_type": "markdown",
   "id": "traditional-standard",
   "metadata": {},
   "source": [
    "# Sumador Draper con QFT"
   ]
  },
  {
   "cell_type": "code",
   "execution_count": 1,
   "id": "standing-impression",
   "metadata": {},
   "outputs": [],
   "source": [
    "from pytket import Circuit\n",
    "from pytket.utils import Graph\n",
    "from pytket.backends.ibm import AerBackend, AerStateBackend\n",
    "from qiskit.visualization import plot_bloch_multivector"
   ]
  },
  {
   "cell_type": "code",
   "execution_count": 2,
   "id": "electrical-situation",
   "metadata": {},
   "outputs": [],
   "source": [
    "def qft_rotations(circuit, n):\n",
    "    \"\"\"Performs qft on the first n qubits in circuit (without swaps)\"\"\"\n",
    "    if n == 0:\n",
    "        return circuit\n",
    "    n -= 1\n",
    "    circuit.H(n)   # anhadimos la puerta H\n",
    "    for qubit in range(n):\n",
    "        circuit.CRz((1/(2**(n-qubit))), qubit, n) # pasamos el numero, el qubit de control\n",
    "                                            # y luego el objetivo.\n",
    "    qft_rotations(circuit, n)"
   ]
  },
  {
   "cell_type": "code",
   "execution_count": 3,
   "id": "nominated-pressing",
   "metadata": {},
   "outputs": [],
   "source": [
    "def adder(circuit, n):    \n",
    "    circuit.CRz(1/2**(0), n  ,0)\n",
    "    circuit.CRz(1/2**(1), n+1,0)\n",
    "    circuit.CRz(1/2**(2), n+2,0)\n",
    "    circuit.CRz(1/2**(3), n+3,0)\n",
    "    \n",
    "    circuit.CRz(1/2**(0), n+1,1)\n",
    "    circuit.CRz(1/2**(1), n+2,1)\n",
    "    circuit.CRz(1/2**(2), n+3,1)\n",
    "   \n",
    "    circuit.CRz(1/2**(0), n+2,2)\n",
    "    circuit.CRz(1/2**(1), n+3,2)\n",
    "  \n",
    "    circuit.CRz(1/2**(0), n+3,3)\n",
    "    circuit.add_barrier([0,1,2,3])"
   ]
  },
  {
   "cell_type": "code",
   "execution_count": 4,
   "id": "dramatic-manchester",
   "metadata": {},
   "outputs": [],
   "source": [
    "def swap_registers(circuit, n):\n",
    "    for qubit in range(n//2): # tenemos que hacer el swap para queden bien \n",
    "        circuit.SWAP(qubit, n-qubit-1)\n",
    "    return circuit\n",
    "\n",
    "def qft(circuit, n):\n",
    "    \"\"\"QFT on the first n qubits in circuit\"\"\"\n",
    "    qft_rotations(circuit, n)\n",
    "    swap_registers(circuit, n)\n",
    "    return circuit"
   ]
  },
  {
   "cell_type": "code",
   "execution_count": 5,
   "id": "vanilla-kentucky",
   "metadata": {},
   "outputs": [],
   "source": [
    "def qft_rotationsInverse(circuit):\n",
    "    circuit.SWAP(0,3)\n",
    "    circuit.SWAP(1,2)\n",
    "\n",
    "    circuit.H(0)\n",
    "    \n",
    "    circuit.CRz(-0.5, 0, 1)\n",
    "    circuit.H(1) \n",
    "\n",
    "    circuit.add_barrier([0, 1, 2, 3])\n",
    "    circuit.CRz(-0.25, 0, 2)\n",
    "    circuit.CRz(-0.5, 1, 2)\n",
    "    circuit.H(2) \n",
    "\n",
    "    circuit.add_barrier([0, 1, 2, 3])\n",
    "    circuit.CRz(-0.125, 0, 3)\n",
    "    circuit.CRz(-0.25, 1, 3)\n",
    "    circuit.CRz(-0.5, 2, 3) \n",
    "    circuit.H(3) "
   ]
  },
  {
   "cell_type": "code",
   "execution_count": 6,
   "id": "amino-citizenship",
   "metadata": {},
   "outputs": [],
   "source": [
    "n = 8\n",
    "nA = 4\n",
    "circ = Circuit(8)\n",
    "#Nuestro numero A seria |1100> (12)\n",
    "circ.X(0)\n",
    "circ.X(1)\n",
    "#nuestro numeroB seria |0001> (1)\n",
    "circ.X(7)\n",
    "qft(circ,nA)\n",
    "adder(circ, nA)\n",
    "qft_rotationsInverse(circ)"
   ]
  },
  {
   "cell_type": "code",
   "execution_count": 7,
   "id": "italic-reggae",
   "metadata": {},
   "outputs": [
    {
     "data": {
      "text/plain": [
       "[X q[0]; X q[1]; H q[3]; X q[7]; CRz(0.125*PI) q[0], q[3]; CRz(0.25*PI) q[1], q[3]; CRz(0.5*PI) q[2], q[3]; H q[2]; CRz(0.25*PI) q[0], q[2]; CRz(0.5*PI) q[1], q[2]; H q[1]; CRz(0.5*PI) q[0], q[1]; H q[0]; SWAP q[1], q[2]; SWAP q[0], q[3]; CRz(1*PI) q[4], q[0]; Measure q[4] --> c[4]; CRz(0.5*PI) q[5], q[0]; CRz(0.25*PI) q[6], q[0]; CRz(1*PI) q[5], q[1]; Measure q[5] --> c[5]; CRz(0.125*PI) q[7], q[0]; CRz(0.5*PI) q[6], q[1]; CRz(0.25*PI) q[7], q[1]; CRz(1*PI) q[6], q[2]; Measure q[6] --> c[6]; CRz(0.5*PI) q[7], q[2]; CRz(1*PI) q[7], q[3]; Measure q[7] --> c[7]; Barrier q[0], q[1], q[2], q[3]; SWAP q[0], q[3]; SWAP q[1], q[2]; H q[0]; CRz(3.5*PI) q[0], q[1]; H q[1]; Barrier q[0], q[1], q[2], q[3]; CRz(3.75*PI) q[0], q[2]; CRz(3.5*PI) q[1], q[2]; H q[2]; Barrier q[0], q[1], q[2], q[3]; CRz(3.875*PI) q[0], q[3]; Measure q[0] --> c[0]; CRz(3.75*PI) q[1], q[3]; Measure q[1] --> c[1]; CRz(3.5*PI) q[2], q[3]; Measure q[2] --> c[2]; H q[3]; Measure q[3] --> c[3]; ]"
      ]
     },
     "execution_count": 7,
     "metadata": {},
     "output_type": "execute_result"
    }
   ],
   "source": [
    "circ.measure_all()"
   ]
  },
  {
   "cell_type": "code",
   "execution_count": 8,
   "id": "forward-organizer",
   "metadata": {},
   "outputs": [
    {
     "name": "stdout",
     "output_type": "stream",
     "text": [
      "[X q[0];, X q[1];, H q[3];, X q[7];, CRz(0.125*PI) q[0], q[3];, CRz(0.25*PI) q[1], q[3];, CRz(0.5*PI) q[2], q[3];, H q[2];, CRz(0.25*PI) q[0], q[2];, CRz(0.5*PI) q[1], q[2];, H q[1];, CRz(0.5*PI) q[0], q[1];, H q[0];, SWAP q[1], q[2];, SWAP q[0], q[3];, CRz(1*PI) q[4], q[0];, Measure q[4] --> c[4];, CRz(0.5*PI) q[5], q[0];, CRz(0.25*PI) q[6], q[0];, CRz(1*PI) q[5], q[1];, Measure q[5] --> c[5];, CRz(0.125*PI) q[7], q[0];, CRz(0.5*PI) q[6], q[1];, CRz(0.25*PI) q[7], q[1];, CRz(1*PI) q[6], q[2];, Measure q[6] --> c[6];, CRz(0.5*PI) q[7], q[2];, CRz(1*PI) q[7], q[3];, Measure q[7] --> c[7];, Barrier q[0], q[1], q[2], q[3];, SWAP q[0], q[3];, SWAP q[1], q[2];, H q[0];, CRz(3.5*PI) q[0], q[1];, H q[1];, Barrier q[0], q[1], q[2], q[3];, CRz(3.75*PI) q[0], q[2];, CRz(3.5*PI) q[1], q[2];, H q[2];, Barrier q[0], q[1], q[2], q[3];, CRz(3.875*PI) q[0], q[3];, Measure q[0] --> c[0];, CRz(3.75*PI) q[1], q[3];, Measure q[1] --> c[1];, CRz(3.5*PI) q[2], q[3];, Measure q[2] --> c[2];, H q[3];, Measure q[3] --> c[3];]\n"
     ]
    }
   ],
   "source": [
    "print(circ.get_commands())"
   ]
  },
  {
   "cell_type": "code",
   "execution_count": 9,
   "id": "clear-divide",
   "metadata": {},
   "outputs": [
    {
     "name": "stdout",
     "output_type": "stream",
     "text": [
      "Counter({(0, 0, 1, 0, 0, 0, 0, 1): 1000})\n"
     ]
    }
   ],
   "source": [
    "b = AerBackend()\n",
    "b.compile_circuit(circ)\n",
    "handle = b.process_circuit(circ, 1000)\n",
    "result = b.get_result(handle)\n",
    "counts = result.get_counts()\n",
    "print(counts)"
   ]
  },
  {
   "cell_type": "markdown",
   "id": "painful-chinese",
   "metadata": {},
   "source": [
    "Como vemos, los 4 bits mas significactivos, nos da la suma de nuestro dos numeros, A+B = 4, pero de mode inversa."
   ]
  },
  {
   "cell_type": "code",
   "execution_count": null,
   "id": "resistant-antibody",
   "metadata": {},
   "outputs": [],
   "source": []
  }
 ],
 "metadata": {
  "kernelspec": {
   "display_name": "Python 3",
   "language": "python",
   "name": "python3"
  },
  "language_info": {
   "codemirror_mode": {
    "name": "ipython",
    "version": 3
   },
   "file_extension": ".py",
   "mimetype": "text/x-python",
   "name": "python",
   "nbconvert_exporter": "python",
   "pygments_lexer": "ipython3",
   "version": "3.8.5"
  }
 },
 "nbformat": 4,
 "nbformat_minor": 5
}
