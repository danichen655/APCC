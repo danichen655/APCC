{
 "cells": [
  {
   "cell_type": "code",
   "execution_count": 17,
   "metadata": {},
   "outputs": [
    {
     "name": "stdout",
     "output_type": "stream",
     "text": [
      "<tket::Circuit, qubits=2, gates=4>\n",
      "Counter({(0, 0): 516, (1, 1): 484})\n"
     ]
    }
   ],
   "source": [
    "from pytket import Circuit\n",
    "from pytket.backends.ibm import AerBackend\n",
    "from pytket.utils import Graph\n",
    "c = Circuit(2,2)\n",
    "c.H(0)\n",
    "c.CX(0,1)\n",
    "c.measure_all()\n",
    "b = AerBackend()\n",
    "b.compile_circuit(c)\n",
    "\n",
    "handle = b.process_circuit(c, 1000)\n",
    "counts = b.get_result(handle).get_counts()\n",
    "print(c)\n",
    "print(counts)\n",
    "##Graph(c).get_qubit_graph()"
   ]
  },
  {
   "cell_type": "code",
   "execution_count": null,
   "metadata": {},
   "outputs": [],
   "source": []
  }
 ],
 "metadata": {
  "kernelspec": {
   "display_name": "Python 3",
   "language": "python",
   "name": "python3"
  },
  "language_info": {
   "codemirror_mode": {
    "name": "ipython",
    "version": 3
   },
   "file_extension": ".py",
   "mimetype": "text/x-python",
   "name": "python",
   "nbconvert_exporter": "python",
   "pygments_lexer": "ipython3",
   "version": "3.8.5"
  }
 },
 "nbformat": 4,
 "nbformat_minor": 4
}
